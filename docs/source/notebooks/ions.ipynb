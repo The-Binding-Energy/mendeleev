{
 "cells": [
  {
   "cell_type": "markdown",
   "metadata": {},
   "source": [
    "# Ions\n",
    "\n",
    "You can use the `Ion` class to work with ions instead of elements. Ions can be created from elements and charge information."
   ]
  },
  {
   "cell_type": "code",
   "execution_count": 2,
   "metadata": {},
   "outputs": [],
   "source": [
    "from mendeleev.ion import Ion"
   ]
  },
  {
   "cell_type": "code",
   "execution_count": 3,
   "metadata": {},
   "outputs": [],
   "source": [
    "fe_2 = Ion(\"Fe\", 2)"
   ]
  },
  {
   "cell_type": "markdown",
   "metadata": {},
   "source": [
    "You can access variety of properties of the ion"
   ]
  },
  {
   "cell_type": "code",
   "execution_count": 6,
   "metadata": {},
   "outputs": [
    {
     "data": {
      "text/plain": [
       "2"
      ]
     },
     "execution_count": 6,
     "metadata": {},
     "output_type": "execute_result"
    }
   ],
   "source": [
    "fe_2.charge"
   ]
  },
  {
   "cell_type": "code",
   "execution_count": 7,
   "metadata": {},
   "outputs": [
    {
     "data": {
      "text/plain": [
       "24"
      ]
     },
     "execution_count": 7,
     "metadata": {},
     "output_type": "execute_result"
    }
   ],
   "source": [
    "fe_2.electrons"
   ]
  },
  {
   "cell_type": "code",
   "execution_count": 15,
   "metadata": {},
   "outputs": [
    {
     "data": {
      "text/plain": [
       "26"
      ]
     },
     "execution_count": 15,
     "metadata": {},
     "output_type": "execute_result"
    }
   ],
   "source": [
    "fe_2.Z"
   ]
  },
  {
   "cell_type": "code",
   "execution_count": 16,
   "metadata": {},
   "outputs": [
    {
     "data": {
      "text/plain": [
       "'Iron 2+ ion'"
      ]
     },
     "execution_count": 16,
     "metadata": {},
     "output_type": "execute_result"
    }
   ],
   "source": [
    "fe_2.name"
   ]
  },
  {
   "cell_type": "markdown",
   "metadata": {},
   "source": [
    "you can also print the unicode ion symbol"
   ]
  },
  {
   "cell_type": "code",
   "execution_count": 18,
   "metadata": {},
   "outputs": [
    {
     "data": {
      "text/plain": [
       "'Fe²⁺'"
      ]
     },
     "execution_count": 18,
     "metadata": {},
     "output_type": "execute_result"
    }
   ],
   "source": [
    "fe_2.unicode_ion_symbol()"
   ]
  },
  {
   "cell_type": "markdown",
   "metadata": {},
   "source": [
    "Ionic radii for this ion are available under `radius` attribute"
   ]
  },
  {
   "cell_type": "code",
   "execution_count": 10,
   "metadata": {},
   "outputs": [
    {
     "data": {
      "text/plain": [
       "[IonicRadius(\n",
       " \tatomic_number=26,\n",
       "  \tcharge=2,\n",
       "  \tcoordination='IV',\n",
       "  \tcrystal_radius=77.0,\n",
       "  \teconf='3d6',\n",
       "  \tid=149,\n",
       "  \tionic_radius=63.0,\n",
       "  \tmost_reliable=False,\n",
       "  \torigin='',\n",
       "  \tspin='HS',\n",
       " ),\n",
       " IonicRadius(\n",
       " \tatomic_number=26,\n",
       "  \tcharge=2,\n",
       "  \tcoordination='IVSQ',\n",
       "  \tcrystal_radius=78.0,\n",
       "  \teconf='3d6',\n",
       "  \tid=150,\n",
       "  \tionic_radius=64.0,\n",
       "  \tmost_reliable=False,\n",
       "  \torigin='',\n",
       "  \tspin='HS',\n",
       " ),\n",
       " IonicRadius(\n",
       " \tatomic_number=26,\n",
       "  \tcharge=2,\n",
       "  \tcoordination='VI',\n",
       "  \tcrystal_radius=75.0,\n",
       "  \teconf='3d6',\n",
       "  \tid=151,\n",
       "  \tionic_radius=61.0,\n",
       "  \tmost_reliable=False,\n",
       "  \torigin='estimated, ',\n",
       "  \tspin='LS',\n",
       " ),\n",
       " IonicRadius(\n",
       " \tatomic_number=26,\n",
       "  \tcharge=2,\n",
       "  \tcoordination='VI',\n",
       "  \tcrystal_radius=92.0,\n",
       "  \teconf='3d6',\n",
       "  \tid=152,\n",
       "  \tionic_radius=78.0,\n",
       "  \tmost_reliable=True,\n",
       "  \torigin='from r^3 vs V plots, ',\n",
       "  \tspin='HS',\n",
       " ),\n",
       " IonicRadius(\n",
       " \tatomic_number=26,\n",
       "  \tcharge=2,\n",
       "  \tcoordination='VIII',\n",
       "  \tcrystal_radius=106.0,\n",
       "  \teconf='3d6',\n",
       "  \tid=153,\n",
       "  \tionic_radius=92.0,\n",
       "  \tmost_reliable=False,\n",
       "  \torigin='calculated, ',\n",
       "  \tspin='HS',\n",
       " )]"
      ]
     },
     "execution_count": 10,
     "metadata": {},
     "output_type": "execute_result"
    }
   ],
   "source": [
    "fe_2.radius"
   ]
  },
  {
   "cell_type": "markdown",
   "metadata": {},
   "source": [
    "Appropriate value of ionization energy and electron affinity are available under `ie` and `ea` attributes"
   ]
  },
  {
   "cell_type": "code",
   "execution_count": 13,
   "metadata": {},
   "outputs": [
    {
     "data": {
      "text/plain": [
       "30.651"
      ]
     },
     "execution_count": 13,
     "metadata": {},
     "output_type": "execute_result"
    }
   ],
   "source": [
    "fe_2.ie"
   ]
  },
  {
   "cell_type": "code",
   "execution_count": 14,
   "metadata": {},
   "outputs": [
    {
     "data": {
      "text/plain": [
       "16.1992"
      ]
     },
     "execution_count": 14,
     "metadata": {},
     "output_type": "execute_result"
    }
   ],
   "source": [
    "fe_2.ea"
   ]
  },
  {
   "cell_type": "markdown",
   "metadata": {},
   "source": [
    "compute ionic potential"
   ]
  },
  {
   "cell_type": "code",
   "execution_count": 21,
   "metadata": {},
   "outputs": [
    {
     "data": {
      "text/plain": [
       "0.02564102564102564"
      ]
     },
     "execution_count": 21,
     "metadata": {},
     "output_type": "execute_result"
    }
   ],
   "source": [
    "fe_2.ionic_potential()"
   ]
  }
 ],
 "metadata": {
  "kernelspec": {
   "display_name": "Python 3",
   "language": "python",
   "name": "python3"
  },
  "language_info": {
   "codemirror_mode": {
    "name": "ipython",
    "version": 3
   },
   "file_extension": ".py",
   "mimetype": "text/x-python",
   "name": "python",
   "nbconvert_exporter": "python",
   "pygments_lexer": "ipython3",
   "version": "3.8.1"
  }
 },
 "nbformat": 4,
 "nbformat_minor": 4
}
