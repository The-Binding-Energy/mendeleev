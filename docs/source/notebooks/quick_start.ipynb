{
 "cells": [
  {
   "cell_type": "markdown",
   "metadata": {},
   "source": [
    "# mendeleev tutorial\n",
    "\n",
    "This simple tutorial will illustrate the basic capabilities of the package.\n",
    "\n",
    "## Table of Contents\n",
    "\n",
    "- [Basic interactive usage](#Basic-interactive-usage)\n",
    "  - [Getting single elements](#Getting-single-elements)\n",
    "  - [Getting-list-of-elements](#Getting-list-of-elements)\n",
    "- [Extended attributes](#Extended-attributes)\n",
    "  - [Oxidation states](#Oxidation-states)\n",
    "  - [Ionization energies](#Ionization-energies)\n",
    "  - [Isotopes](#Isotopes)\n",
    "  - [Ionic radii](#Ionic-radii)\n",
    "  - [Electronic configuration](#Electronic-configuration)\n",
    "- [Useful functions for calculating properties](#Useful-functions-for-calculating-properties)\n",
    "- [Electronegativity](#Electronegativity)\n",
    "- [CLI utility](#CLI-utility)"
   ]
  },
  {
   "cell_type": "markdown",
   "metadata": {},
   "source": [
    "## Basic interactive usage"
   ]
  },
  {
   "cell_type": "markdown",
   "metadata": {},
   "source": [
    "### Getting single elements\n",
    "\n",
    "The simplest way of accessing the elements is importing them directly from `mendeleev` by symbols"
   ]
  },
  {
   "cell_type": "code",
   "execution_count": 1,
   "metadata": {},
   "outputs": [
    {
     "name": "stdout",
     "output_type": "stream",
     "text": [
      "Si's name:  Silicon\n",
      "Fe's atomic number: 26\n",
      "O's atomic weight:  15.999\n"
     ]
    }
   ],
   "source": [
    "from mendeleev import Si, Fe, O\n",
    "print(\"Si's name: \", Si.name)\n",
    "print(\"Fe's atomic number:\", Fe.atomic_number)\n",
    "print(\"O's atomic weight: \", O.atomic_weight)"
   ]
  },
  {
   "cell_type": "markdown",
   "metadata": {},
   "source": [
    "An alternative interface to the data is through the ``element`` function that returns a single ``Element`` object or a list of ``Element`` object depending on the arguments.\n",
    "\n",
    "The function can be imported directly from the ``mendeleev`` package"
   ]
  },
  {
   "cell_type": "code",
   "execution_count": 2,
   "metadata": {
    "collapsed": false,
    "jupyter": {
     "outputs_hidden": false
    }
   },
   "outputs": [],
   "source": [
    "from mendeleev import element"
   ]
  },
  {
   "cell_type": "markdown",
   "metadata": {},
   "source": [
    "The ``element`` method accepts unique identifiers: **atomic number**, **atomic symbol** or **element’s name** in English. To retrieve the entries on Silicon by symbol type"
   ]
  },
  {
   "cell_type": "code",
   "execution_count": 3,
   "metadata": {
    "collapsed": false,
    "jupyter": {
     "outputs_hidden": false
    }
   },
   "outputs": [],
   "source": [
    "si = element('Si')"
   ]
  },
  {
   "cell_type": "code",
   "execution_count": 4,
   "metadata": {
    "collapsed": false,
    "jupyter": {
     "outputs_hidden": false
    }
   },
   "outputs": [
    {
     "data": {
      "text/plain": [
       "Element(\n",
       "\tabundance_crust=282000.0,\n",
       " \tabundance_sea=2.2,\n",
       " \tannotation='',\n",
       " \tatomic_number=14,\n",
       " \tatomic_radius=110.0,\n",
       " \tatomic_radius_rahm=231.99999999999997,\n",
       " \tatomic_volume=12.1,\n",
       " \tatomic_weight=28.085,\n",
       " \tatomic_weight_uncertainty=None,\n",
       " \tblock='p',\n",
       " \tboiling_point=2628.0,\n",
       " \tc6=305.0,\n",
       " \tc6_gb=308.0,\n",
       " \tcas='7440-21-3',\n",
       " \tcovalent_radius_bragg=117.0,\n",
       " \tcovalent_radius_cordero=111.00000000000001,\n",
       " \tcovalent_radius_pyykko=115.99999999999999,\n",
       " \tcovalent_radius_pyykko_double=107.0,\n",
       " \tcovalent_radius_pyykko_triple=102.0,\n",
       " \tcpk_color='#daa520',\n",
       " \tdensity=2.33,\n",
       " \tdescription=\"Metalloid element belonging to group 14 of the periodic table. It is the second most abundant element in the Earth's crust, making up 25.7% of it by weight. Chemically less reactive than carbon. First identified by Lavoisier in 1787 and first isolated in 1823 by Berzelius.\",\n",
       " \tdipole_polarizability=37.3,\n",
       " \tdipole_polarizability_unc=0.7,\n",
       " \tdiscoverers='Jöns Berzelius',\n",
       " \tdiscovery_location='Sweden',\n",
       " \tdiscovery_year=1824,\n",
       " \tec=<ElectronicConfiguration(conf=\"1s2 2s2 2p6 3s2 3p2\")>,\n",
       " \teconf='[Ne] 3s2 3p2',\n",
       " \telectron_affinity=1.3895211,\n",
       " \ten_allen=11.33,\n",
       " \ten_ghosh=0.178503,\n",
       " \ten_pauling=1.9,\n",
       " \tevaporation_heat=383.0,\n",
       " \tfusion_heat=50.6,\n",
       " \tgas_basicity=814.1,\n",
       " \tgeochemical_class='major',\n",
       " \tglawe_number=85,\n",
       " \tgoldschmidt_class='litophile',\n",
       " \tgroup=<Group(symbol=IVA, name=Carbon group)>,\n",
       " \tgroup_id=14,\n",
       " \theat_of_formation=450.0,\n",
       " \tionic_radii=[IonicRadius(\n",
       "\tatomic_number=14,\n",
       " \tcharge=4,\n",
       " \tcoordination='IV',\n",
       " \tcrystal_radius=40.0,\n",
       " \teconf='2p6',\n",
       " \tid=379,\n",
       " \tionic_radius=26.0,\n",
       " \tmost_reliable=True,\n",
       " \torigin='',\n",
       " \tspin='',\n",
       "), IonicRadius(\n",
       "\tatomic_number=14,\n",
       " \tcharge=4,\n",
       " \tcoordination='VI',\n",
       " \tcrystal_radius=54.0,\n",
       " \teconf='2p6',\n",
       " \tid=380,\n",
       " \tionic_radius=40.0,\n",
       " \tmost_reliable=True,\n",
       " \torigin='from r^3 vs V plots, ',\n",
       " \tspin='',\n",
       ")],\n",
       " \tis_monoisotopic=None,\n",
       " \tis_radioactive=False,\n",
       " \tisotopes=[<Isotope(Z=14, A=28, mass=27.976926535, abundance=0.92191)>, <Isotope(Z=14, A=29, mass=28.976494665, abundance=0.04699)>, <Isotope(Z=14, A=30, mass=29.97377001, abundance=0.0311)>],\n",
       " \tjmol_color='#f0c8a0',\n",
       " \tlattice_constant=5.43,\n",
       " \tlattice_structure='DIA',\n",
       " \tmelting_point=1683.0,\n",
       " \tmendeleev_number=88,\n",
       " \tmetallic_radius=117.0,\n",
       " \tmetallic_radius_c12=138.0,\n",
       " \tmolcas_gv_color='#f0c8a0',\n",
       " \tname='Silicon',\n",
       " \tname_origin='Latin: silex, silicus, (flint).',\n",
       " \tperiod=3,\n",
       " \tpettifor_number=85,\n",
       " \tproton_affinity=837.0,\n",
       " \tscreening_constants=[<ScreeningConstant(Z=  14, n=  1, s=s, screening=    0.4255)>, <ScreeningConstant(Z=  14, n=  2, s=p, screening=    4.0550)>, <ScreeningConstant(Z=  14, n=  2, s=s, screening=    4.9800)>, <ScreeningConstant(Z=  14, n=  3, s=p, screening=    9.7148)>, <ScreeningConstant(Z=  14, n=  3, s=s, screening=    9.0968)>],\n",
       " \tsources='Makes up major portion of clay, granite, quartz (SiO2), and sand. Commercial production depends on a reaction between sand (SiO2) and carbon at a temperature of around 2200 °C.',\n",
       " \tspecific_heat=0.703,\n",
       " \tsymbol='Si',\n",
       " \tthermal_conductivity=149.0,\n",
       " \tuses='Used in glass as silicon dioxide (SiO2). Silicon carbide (SiC) is one of the hardest substances known and used in polishing. Also the crystalline form is used in semiconductors.',\n",
       " \tvdw_radius=210.0,\n",
       " \tvdw_radius_alvarez=219.0,\n",
       " \tvdw_radius_batsanov=210.0,\n",
       " \tvdw_radius_bondi=210.0,\n",
       " \tvdw_radius_dreiding=426.99999999999994,\n",
       " \tvdw_radius_mm3=229.0,\n",
       " \tvdw_radius_rt=None,\n",
       " \tvdw_radius_truhlar=None,\n",
       " \tvdw_radius_uff=429.5,\n",
       ")"
      ]
     },
     "execution_count": 4,
     "metadata": {},
     "output_type": "execute_result"
    }
   ],
   "source": [
    "si"
   ]
  },
  {
   "cell_type": "markdown",
   "metadata": {},
   "source": [
    "Similarly to access the data by atomic number or element names type"
   ]
  },
  {
   "cell_type": "code",
   "execution_count": 5,
   "metadata": {
    "collapsed": false,
    "jupyter": {
     "outputs_hidden": false
    }
   },
   "outputs": [
    {
     "name": "stdout",
     "output_type": "stream",
     "text": [
      "Aluminum\n"
     ]
    }
   ],
   "source": [
    "al = element(13)\n",
    "print(al.name)"
   ]
  },
  {
   "cell_type": "code",
   "execution_count": 6,
   "metadata": {
    "collapsed": false,
    "jupyter": {
     "outputs_hidden": false
    }
   },
   "outputs": [
    {
     "name": "stdout",
     "output_type": "stream",
     "text": [
      "8\n"
     ]
    }
   ],
   "source": [
    "o = element('Oxygen')\n",
    "print(o.atomic_number)"
   ]
  },
  {
   "cell_type": "markdown",
   "metadata": {},
   "source": [
    "### Getting list of elements"
   ]
  },
  {
   "cell_type": "markdown",
   "metadata": {},
   "source": [
    "The ``element`` method also accepts list or tuple of identifiers and then returns a list of ``Element`` objects"
   ]
  },
  {
   "cell_type": "code",
   "execution_count": 7,
   "metadata": {
    "collapsed": false,
    "jupyter": {
     "outputs_hidden": false
    }
   },
   "outputs": [
    {
     "name": "stdout",
     "output_type": "stream",
     "text": [
      "Carbon Hydrogen Oxygen\n"
     ]
    }
   ],
   "source": [
    "c, h, o = element(['C', 'Hydrogen', 8])\n",
    "print(c.name, h.name, o.name)"
   ]
  },
  {
   "cell_type": "markdown",
   "metadata": {},
   "source": [
    "## Extended attributes\n",
    "\n",
    "Next to simple attributes returning ``str``, ``int`` or ``float``, there are extended attributes \n",
    "\n",
    "* ``oxistates``, returns a list of oxidation states\n",
    "* ``ionenergies``, returns a dictionary of ionization energies\n",
    "* ``isotopes``, returns a list of ``Isotope`` objects\n",
    "* ``ionic_radii`` returns a list of ``IonicRadius`` objects\n",
    "* ``ec``, electronic configuration object\n"
   ]
  },
  {
   "cell_type": "markdown",
   "metadata": {},
   "source": [
    "### Oxidation states\n",
    "\n",
    "``oxistates`` returns a list of most common oxidation states for a given element"
   ]
  },
  {
   "cell_type": "code",
   "execution_count": 8,
   "metadata": {
    "collapsed": false,
    "jupyter": {
     "outputs_hidden": false
    }
   },
   "outputs": [
    {
     "name": "stdout",
     "output_type": "stream",
     "text": [
      "[3, 2]\n"
     ]
    }
   ],
   "source": [
    "fe = element('Fe')\n",
    "print(fe.oxistates)"
   ]
  },
  {
   "cell_type": "markdown",
   "metadata": {},
   "source": [
    "### Ionization energies\n",
    "\n",
    "The ``ionenergies`` returns a dictionary with ionization energies in `eV` as values and degrees of ionization as keys"
   ]
  },
  {
   "cell_type": "code",
   "execution_count": 9,
   "metadata": {
    "collapsed": false,
    "jupyter": {
     "outputs_hidden": false
    }
   },
   "outputs": [
    {
     "data": {
      "text/plain": [
       "{1: 13.618054,\n",
       " 2: 35.12111,\n",
       " 3: 54.93554,\n",
       " 4: 77.4135,\n",
       " 5: 113.8989,\n",
       " 6: 138.1189,\n",
       " 7: 739.32679,\n",
       " 8: 871.40985}"
      ]
     },
     "execution_count": 9,
     "metadata": {},
     "output_type": "execute_result"
    }
   ],
   "source": [
    "o = element('O')\n",
    "o.ionenergies"
   ]
  },
  {
   "cell_type": "markdown",
   "metadata": {},
   "source": [
    "### Isotopes\n",
    "\n",
    "The ``isotopes`` attribute returns a list of ``Isotope`` objects with the following attributes per isotope\n",
    "\n",
    "* abundance\n",
    "* atomic_number\n",
    "* half_life\n",
    "* half_life_unit\n",
    "* is_radioactive\n",
    "* mass\n",
    "* mass_number\n",
    "* mass_uncertainty"
   ]
  },
  {
   "cell_type": "code",
   "execution_count": 10,
   "metadata": {
    "collapsed": false,
    "jupyter": {
     "outputs_hidden": false
    }
   },
   "outputs": [
    {
     "name": "stdout",
     "output_type": "stream",
     "text": [
      " AN   MN     Mass    Unc.     Abu.   Rad. \n",
      "------------------------------------------\n",
      "  26   54   53.93961 3.00e-06   5.85 False\n",
      "  26   56   55.93494 3.00e-06  91.75 False\n",
      "  26   57   56.93539 3.00e-06   2.12 False\n",
      "  26   58   57.93327 3.00e-06   0.28 False\n"
     ]
    }
   ],
   "source": [
    "print(\"{0:^4s} {1:^4s} {2:^10s} {3:8s} {4:6s} {5:5s}\\n{6}\".format(\"AN\", \"MN\", \"Mass\", \"Unc.\", \"Abu.\", \"Rad.\", \"-\"*42))\n",
    "for iso in fe.isotopes:\n",
    "    print('{0:4d} {1:4d} {2:10.5f} {3:8.2e} {4:6.2f} {5:}'.format(\n",
    "        iso.atomic_number, iso.mass_number, iso.mass, iso.mass_uncertainty, iso.abundance * 100.0, iso.is_radioactive))"
   ]
  },
  {
   "cell_type": "markdown",
   "metadata": {},
   "source": [
    "### Ionic radii\n",
    "\n",
    "Another composite attribute is ``ionic_radii`` which returns a list of ``IonicRadius`` object with the following attributes\n",
    "\n",
    "* ``atomic_number``, atomic number of the ion\n",
    "* ``charge``, charge of the ion\n",
    "* ``econf``, electronic configuration of the ion\n",
    "* ``coordination``, coordination type of the ion\n",
    "* ``spin``, spin state of the ion (HS or LS)\n",
    "* ``crystal_radius``, crystal radius in pm\n",
    "* ``ionic_radius``, ionic radius in pm\n",
    "* ``origin``, source of the data\n",
    "* ``most_reliable``, recommended value, (see the original paper for more information)\n"
   ]
  },
  {
   "cell_type": "code",
   "execution_count": 11,
   "metadata": {
    "collapsed": false,
    "jupyter": {
     "outputs_hidden": false
    }
   },
   "outputs": [
    {
     "name": "stdout",
     "output_type": "stream",
     "text": [
      "charge=   2, coordination=IV   , crystal_radius=77.000, ionic_radius=63.000\n",
      "charge=   2, coordination=IVSQ , crystal_radius=78.000, ionic_radius=64.000\n",
      "charge=   2, coordination=VI   , crystal_radius=75.000, ionic_radius=61.000\n",
      "charge=   2, coordination=VI   , crystal_radius=92.000, ionic_radius=78.000\n",
      "charge=   2, coordination=VIII , crystal_radius=106.000, ionic_radius=92.000\n",
      "charge=   3, coordination=IV   , crystal_radius=63.000, ionic_radius=49.000\n",
      "charge=   3, coordination=V    , crystal_radius=72.000, ionic_radius=58.000\n",
      "charge=   3, coordination=VI   , crystal_radius=69.000, ionic_radius=55.000\n",
      "charge=   3, coordination=VI   , crystal_radius=78.500, ionic_radius=64.500\n",
      "charge=   3, coordination=VIII , crystal_radius=92.000, ionic_radius=78.000\n",
      "charge=   4, coordination=VI   , crystal_radius=72.500, ionic_radius=58.500\n",
      "charge=   6, coordination=IV   , crystal_radius=39.000, ionic_radius=25.000\n"
     ]
    }
   ],
   "source": [
    "for ir in fe.ionic_radii:\n",
    "    print(ir)"
   ]
  },
  {
   "cell_type": "markdown",
   "metadata": {},
   "source": [
    "## Useful functions for calculating properties\n",
    "\n",
    "Next to stored attributes there is a number of useful functions"
   ]
  },
  {
   "cell_type": "code",
   "execution_count": 21,
   "metadata": {},
   "outputs": [],
   "source": [
    "si = element('Si')"
   ]
  },
  {
   "cell_type": "code",
   "execution_count": 22,
   "metadata": {
    "collapsed": false,
    "jupyter": {
     "outputs_hidden": false
    }
   },
   "outputs": [
    {
     "data": {
      "text/plain": [
       "4"
      ]
     },
     "execution_count": 22,
     "metadata": {},
     "output_type": "execute_result"
    }
   ],
   "source": [
    "# get the number of valence electrons\n",
    "si.nvalence()"
   ]
  },
  {
   "cell_type": "code",
   "execution_count": 23,
   "metadata": {
    "collapsed": false,
    "jupyter": {
     "outputs_hidden": false
    }
   },
   "outputs": [
    {
     "data": {
      "text/plain": [
       "0.058318712346158874"
      ]
     },
     "execution_count": 23,
     "metadata": {},
     "output_type": "execute_result"
    }
   ],
   "source": [
    "# calculate softness for an ion\n",
    "si.softness(charge=2)"
   ]
  },
  {
   "cell_type": "code",
   "execution_count": 24,
   "metadata": {
    "collapsed": false,
    "jupyter": {
     "outputs_hidden": false
    }
   },
   "outputs": [
    {
     "data": {
      "text/plain": [
       "60.812605"
      ]
     },
     "execution_count": 24,
     "metadata": {},
     "output_type": "execute_result"
    }
   ],
   "source": [
    "# calcualte hardness for an ion\n",
    "si.hardness(charge=4)"
   ]
  },
  {
   "cell_type": "code",
   "execution_count": 25,
   "metadata": {
    "collapsed": false,
    "jupyter": {
     "outputs_hidden": false
    }
   },
   "outputs": [
    {
     "data": {
      "text/plain": [
       "8.1729225"
      ]
     },
     "execution_count": 25,
     "metadata": {},
     "output_type": "execute_result"
    }
   ],
   "source": [
    "# calculate mulliken electronegativity for a neutral atom or ion\n",
    "si.en_mulliken(charge=1)"
   ]
  },
  {
   "cell_type": "code",
   "execution_count": 26,
   "metadata": {
    "collapsed": false,
    "jupyter": {
     "outputs_hidden": false
    }
   },
   "outputs": [
    {
     "data": {
      "text/plain": [
       "4.149999999999999"
      ]
     },
     "execution_count": 26,
     "metadata": {},
     "output_type": "execute_result"
    }
   ],
   "source": [
    "# calculate the effective nuclear charge for a subshell using Slater's rules\n",
    "si.zeff(n=3, o='s')"
   ]
  },
  {
   "cell_type": "code",
   "execution_count": 27,
   "metadata": {
    "collapsed": false,
    "jupyter": {
     "outputs_hidden": false
    }
   },
   "outputs": [
    {
     "data": {
      "text/plain": [
       "4.9032"
      ]
     },
     "execution_count": 27,
     "metadata": {},
     "output_type": "execute_result"
    }
   ],
   "source": [
    "# calculate the effective nuclear charge for a subshell using Clemneti's and Raimondi's exponents\n",
    "si.zeff(n=3, o='s', method='clementi')"
   ]
  },
  {
   "cell_type": "markdown",
   "metadata": {},
   "source": [
    "### Electronegativity\n",
    "\n",
    "Currently there are 9 electronagativity scales implemented that can me accessed though the common ``electronegativity`` method, the scales are:\n",
    "\n",
    "* ``allen``\n",
    "* ``allred-rochow``\n",
    "* ``cottrell-sutton``\n",
    "* ``gordy``\n",
    "* ``li-xue``\n",
    "* ``mulliken``\n",
    "* ``nagle``\n",
    "* ``pauling``\n",
    "* ``sanderson``\n",
    "\n",
    "More information can be found in the [documentation](http://mendeleev.readthedocs.org/en/latest/electronegativity.html)."
   ]
  },
  {
   "cell_type": "code",
   "execution_count": 28,
   "metadata": {
    "collapsed": false,
    "jupyter": {
     "outputs_hidden": false
    }
   },
   "outputs": [
    {
     "data": {
      "text/plain": [
       "1.9"
      ]
     },
     "execution_count": 28,
     "metadata": {},
     "output_type": "execute_result"
    }
   ],
   "source": [
    "si.electronegativity(scale='pauling')"
   ]
  },
  {
   "cell_type": "code",
   "execution_count": 29,
   "metadata": {
    "collapsed": false,
    "jupyter": {
     "outputs_hidden": false
    }
   },
   "outputs": [
    {
     "data": {
      "text/plain": [
       "11.33"
      ]
     },
     "execution_count": 29,
     "metadata": {},
     "output_type": "execute_result"
    }
   ],
   "source": [
    "si.electronegativity(scale='allen')"
   ]
  },
  {
   "cell_type": "markdown",
   "metadata": {},
   "source": [
    "## CLI utility\n",
    "\n",
    "For those who work in the terminal there is a simple command line interface (CLI) for printing the information about a given element. The script name is element.py and it accepts either the symbol or name of the element as an argument and prints the data about it. For example, to print the properties of silicon type"
   ]
  },
  {
   "cell_type": "code",
   "execution_count": 30,
   "metadata": {
    "collapsed": false,
    "jupyter": {
     "outputs_hidden": false
    }
   },
   "outputs": [
    {
     "name": "stdout",
     "output_type": "stream",
     "text": [
      "\u001b[31m                            _  _  _  _      _          \n",
      "                          _(_)(_)(_)(_)_   (_)         \n",
      "                         (_)          (_)_  _          \n",
      "                         (_)_  _  _  _  (_)(_)         \n",
      "                           (_)(_)(_)(_)_   (_)         \n",
      "                          _           (_)  (_)         \n",
      "                         (_)_  _  _  _(_)_ (_) _       \n",
      "                           (_)(_)(_)(_) (_)(_)(_)      \n",
      "                                                       \n",
      "                                                       \n",
      "\u001b[0m\n",
      "\u001b[0m\u001b[34mDescription\n",
      "===========\n",
      "\u001b[0m\n",
      "\u001b[0m  Metalloid element belonging to group 14 of the periodic table. It is\n",
      "  the second most abundant element in the Earth's crust, making up 25.7%\n",
      "  of it by weight. Chemically less reactive than carbon. First\n",
      "  identified by Lavoisier in 1787 and first isolated in 1823 by\n",
      "  Berzelius.\u001b[0m\n",
      "\u001b[0m\u001b[34m\n",
      "Sources\n",
      "=======\n",
      "\u001b[0m\n",
      "\u001b[0m  Makes up major portion of clay, granite, quartz (SiO2), and sand.\n",
      "  Commercial production depends on a reaction between sand (SiO2) and\n",
      "  carbon at a temperature of around 2200 °C.\u001b[0m\n",
      "\u001b[0m\u001b[34m\n",
      "Uses\n",
      "====\n",
      "\u001b[0m\n",
      "\u001b[0m  Used in glass as silicon dioxide (SiO2). Silicon carbide (SiC) is one\n",
      "  of the hardest substances known and used in polishing. Also the\n",
      "  crystalline form is used in semiconductors.\u001b[0m\n",
      "\u001b[0m\u001b[32m\n",
      "Properties\n",
      "==========\n",
      "\u001b[0m\n",
      "\u001b[0mAbundance crust                                         282000\n",
      "Abundance sea                                              2.2\n",
      "Annotation                                                    \n",
      "Atomic number                                               14\n",
      "Atomic radius                                              110\n",
      "Atomic radius rahm                                         232\n",
      "Atomic volume                                             12.1\n",
      "Atomic weight                                           28.085\n",
      "Atomic weight uncertainty                                  NaN\n",
      "Block                                                        p\n",
      "Boiling point                                             2628\n",
      "C6                                                         305\n",
      "C6 gb                                                      308\n",
      "Cas                                                  7440-21-3\n",
      "Covalent radius bragg                                      117\n",
      "Covalent radius cordero                                    111\n",
      "Covalent radius pyykko                                     116\n",
      "Covalent radius pyykko double                              107\n",
      "Covalent radius pyykko triple                              102\n",
      "Cpk color                                              #daa520\n",
      "Density                                                   2.33\n",
      "Dipole polarizability                                     37.3\n",
      "Dipole polarizability unc                                  0.7\n",
      "Discoverers                                     Jöns Berzelius\n",
      "Discovery location                                      Sweden\n",
      "Discovery year                                            1824\n",
      "Electron affinity                                      1.38952\n",
      "Electronic configuration                          [Ne] 3s2 3p2\n",
      "En allen                                                 11.33\n",
      "En ghosh                                              0.178503\n",
      "En pauling                                                 1.9\n",
      "Evaporation heat                                           383\n",
      "Fusion heat                                               50.6\n",
      "Gas basicity                                             814.1\n",
      "Geochemical class                                        major\n",
      "Glawe number                                                85\n",
      "Goldschmidt class                                    litophile\n",
      "Group id                                                    14\n",
      "Heat of formation                                          450\n",
      "Is monoisotopic                                           None\n",
      "Is radioactive                                           False\n",
      "Jmol color                                             #f0c8a0\n",
      "Lattice constant                                          5.43\n",
      "Lattice structure                                          DIA\n",
      "Melting point                                             1683\n",
      "Mendeleev number                                            88\n",
      "Metallic radius                                            117\n",
      "Metallic radius c12                                        138\n",
      "Molcas gv color                                        #f0c8a0\n",
      "Name                                                   Silicon\n",
      "Name origin                    Latin: silex, silicus, (flint).\n",
      "Period                                                       3\n",
      "Pettifor number                                             85\n",
      "Proton affinity                                            837\n",
      "Series id                                                    5\n",
      "Specific heat                                            0.703\n",
      "Symbol                                                      Si\n",
      "Thermal conductivity                                       149\n",
      "Vdw radius                                                 210\n",
      "Vdw radius alvarez                                         219\n",
      "Vdw radius batsanov                                        210\n",
      "Vdw radius bondi                                           210\n",
      "Vdw radius dreiding                                        427\n",
      "Vdw radius mm3                                             229\n",
      "Vdw radius rt                                              NaN\n",
      "Vdw radius truhlar                                         NaN\n",
      "Vdw radius uff                                           429.5\u001b[0m\n",
      "\u001b[0m\u001b[0m"
     ]
    }
   ],
   "source": [
    "!element.py Si"
   ]
  }
 ],
 "metadata": {
  "anaconda-cloud": {},
  "kernelspec": {
   "display_name": "Python 3",
   "language": "python",
   "name": "python3"
  },
  "language_info": {
   "codemirror_mode": {
    "name": "ipython",
    "version": 3
   },
   "file_extension": ".py",
   "mimetype": "text/x-python",
   "name": "python",
   "nbconvert_exporter": "python",
   "pygments_lexer": "ipython3",
   "version": "3.8.1"
  },
  "toc-autonumbering": false,
  "toc-showcode": false,
  "toc-showmarkdowntxt": false,
  "toc-showtags": false
 },
 "nbformat": 4,
 "nbformat_minor": 4
}
